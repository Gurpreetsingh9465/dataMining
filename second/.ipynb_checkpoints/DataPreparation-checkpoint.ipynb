{
 "cells": [
  {
   "cell_type": "code",
   "execution_count": null,
   "metadata": {},
   "outputs": [],
   "source": [
    "import mysql.connector\n",
    "db= mysql.connector.connect(user='root', password='',\n",
    "                              host='127.0.0.1',database=\"nm\"                             \n",
    "                              )\n",
    "cursor = db.cursor(buffered=True)"
   ]
  },
  {
   "cell_type": "code",
   "execution_count": null,
   "metadata": {},
   "outputs": [],
   "source": [
    "cursor.execute(\"SELECT COUNT(*) FROM rf_developer_projects\")\n",
    "p = cursor.fetchone()"
   ]
  },
  {
   "cell_type": "code",
   "execution_count": null,
   "metadata": {},
   "outputs": [],
   "source": [
    "print(p)"
   ]
  },
  {
   "cell_type": "code",
   "execution_count": null,
   "metadata": {},
   "outputs": [],
   "source": [
    "cursor.execute(\"SELECT a.proj_unixname, a.dev_loginname, b.dev_loginname \\\n",
    "FROM rf_developer_projects a \\\n",
    "INNER JOIN rf_developer_projects b \\\n",
    "ON a.proj_unixname=b.proj_unixname \\\n",
    "WHERE a.datasource_id = 266 AND b.datasource_id = 266 \\\n",
    "AND a.dev_loginname != b.dev_loginname \\\n",
    "AND a.dev_loginname < b.dev_loginname\")"
   ]
  },
  {
   "cell_type": "code",
   "execution_count": null,
   "metadata": {},
   "outputs": [],
   "source": [
    "result = cursor.fetchall()\n",
    "print(len(result))\n",
    "for res in result:\n",
    "    print(\"%s\\t\\t\\t\\t%s\\t\\t\\t\\t%s\" % (res[0], res[1], res[2]))"
   ]
  },
  {
   "cell_type": "code",
   "execution_count": null,
   "metadata": {},
   "outputs": [],
   "source": [
    "cursor.execute(\"SELECT a.dev_loginname, COUNT(b.dev_loginname) \\\n",
    "FROM rf_developer_projects a \\\n",
    "INNER JOIN rf_developer_projects b \\\n",
    "ON a.proj_unixname = b.proj_unixname \\\n",
    "WHERE a.datasource_id = 266 \\\n",
    "AND b.datasource_id = 266 \\\n",
    "AND a.dev_loginname != b.dev_loginname \\\n",
    "AND a.dev_loginname < b.dev_loginname \\\n",
    "GROUP BY 1 \\\n",
    "ORDER BY 2 DESC\")"
   ]
  },
  {
   "cell_type": "code",
   "execution_count": null,
   "metadata": {},
   "outputs": [],
   "source": [
    "result = cursor.fetchall()\n",
    "for res in result:\n",
    "    print(\"%s\\t\\t\\t%d\" % (res[0], res[1]))"
   ]
  },
  {
   "cell_type": "code",
   "execution_count": null,
   "metadata": {},
   "outputs": [],
   "source": [
    "cursor.execute(\"SELECT a.proj_unixname, a.dev_loginname, b.dev_loginname \\\n",
    "FROM rf_developer_projects a \\\n",
    "INNER JOIN rf_developer_projects b \\\n",
    "ON a.proj_unixname=b.proj_unixname \\\n",
    "WHERE a.datasource_id = 266 AND b.datasource_id = 266 \\\n",
    "AND a.dev_loginname != b.dev_loginname \\\n",
    "AND a.dev_loginname < b.dev_loginname \\\n",
    "and a.dev_loginname = 'ezmobius'\") "
   ]
  },
  {
   "cell_type": "code",
   "execution_count": null,
   "metadata": {},
   "outputs": [],
   "source": [
    "result = cursor.fetchall()\n",
    "for res in result:\n",
    "    print(\"%s\\t\\t\\t\\t%s\\t\\t\\t\\t%s\" % (res[0], res[1], res[2]))"
   ]
  },
  {
   "cell_type": "code",
   "execution_count": null,
   "metadata": {},
   "outputs": [],
   "source": [
    "cursor.execute(\"SELECT a.dev_loginname, b.dev_loginname, count(a.proj_unixname) \\\n",
    "FROM rf_developer_projects a \\\n",
    "INNER JOIN rf_developer_projects b ON a.proj_unixname=b.proj_unixname \\\n",
    "WHERE a.datasource_id = 266 AND b.datasource_id = 266 \\\n",
    "AND a.dev_loginname != b.dev_loginname \\\n",
    "AND a.dev_loginname < b.dev_loginname \\\n",
    "GROUP BY 1,2 \\\n",
    "ORDER BY 3 DESC\")"
   ]
  },
  {
   "cell_type": "code",
   "execution_count": null,
   "metadata": {},
   "outputs": [],
   "source": [
    "result = cursor.fetchall()\n",
    "for res in result:\n",
    "    print(\"%s\\t\\t\\t\\t%s\\t\\t\\t\\t%d\" % (res[0], res[1], res[2]))"
   ]
  },
  {
   "cell_type": "code",
   "execution_count": null,
   "metadata": {},
   "outputs": [],
   "source": [
    "import csv\n",
    "import sys\n",
    "c=csv.writer(open('edgelist266.csv', 'w', encoding = 'utf-8'), delimiter=' ')\n",
    "for re in result:    \n",
    "    c.writerow(re)   "
   ]
  },
  {
   "cell_type": "code",
   "execution_count": null,
   "metadata": {},
   "outputs": [],
   "source": []
  }
 ],
 "metadata": {
  "kernelspec": {
   "display_name": "Python 3",
   "language": "python",
   "name": "python3"
  },
  "language_info": {
   "codemirror_mode": {
    "name": "ipython",
    "version": 3
   },
   "file_extension": ".py",
   "mimetype": "text/x-python",
   "name": "python",
   "nbconvert_exporter": "python",
   "pygments_lexer": "ipython3",
   "version": "3.7.6"
  }
 },
 "nbformat": 4,
 "nbformat_minor": 2
}
