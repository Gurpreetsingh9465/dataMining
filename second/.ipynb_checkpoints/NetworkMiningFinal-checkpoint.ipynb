{
 "cells": [
  {
   "cell_type": "code",
   "execution_count": 1,
   "metadata": {},
   "outputs": [],
   "source": [
    "import networkx as nx\n",
    "import operator\n",
    "import matplotlib.pyplot as plt"
   ]
  },
  {
   "cell_type": "code",
   "execution_count": null,
   "metadata": {},
   "outputs": [],
   "source": [
    "g= nx.read_weighted_edgelist('edgelist266.csv')"
   ]
  },
  {
   "cell_type": "code",
   "execution_count": null,
   "metadata": {},
   "outputs": [],
   "source": [
    "print(nx.is_connected(g))"
   ]
  },
  {
   "cell_type": "code",
   "execution_count": null,
   "metadata": {},
   "outputs": [],
   "source": [
    "degree = nx.degree(g)\n",
    "degree"
   ]
  },
  {
   "cell_type": "code",
   "execution_count": null,
   "metadata": {},
   "outputs": [],
   "source": [
    "numNodes = nx.number_of_nodes(g)\n",
    "numEdges = nx.number_of_edges(g)\n",
    "minDegree = min(dict(degree).values())\n",
    "maxDegree = max(dict(degree).values())\n",
    "print('numNodes:', numNodes)\n",
    "print('numEdges:', numEdges)\n",
    "print('minDegree:', minDegree)\n",
    "print('maxDegree:', maxDegree)"
   ]
  },
  {
   "cell_type": "code",
   "execution_count": null,
   "metadata": {},
   "outputs": [],
   "source": [
    "degreeSorted = sorted(dict(degree).items(), key=operator.itemgetter(1),reverse=True)\n",
    "print(degreeSorted[0:10])"
   ]
  },
  {
   "cell_type": "code",
   "execution_count": null,
   "metadata": {},
   "outputs": [],
   "source": [
    "nx.draw(g,node_size=[v * 10 for v in dict(degree).values()],node_color='g')\n",
    "plt.show() "
   ]
  },
  {
   "cell_type": "code",
   "execution_count": null,
   "metadata": {},
   "outputs": [],
   "source": [
    "g2 = g.copy()\n",
    "d2 = nx.degree(g2)\n",
    "for n in g.nodes():\n",
    "    if d2[n] <= 1:\n",
    "        g2.remove_node(n)"
   ]
  },
  {
   "cell_type": "code",
   "execution_count": null,
   "metadata": {},
   "outputs": [],
   "source": [
    "g2numNodes = nx.number_of_nodes(g2)\n",
    "g2numEdges = nx.number_of_edges(g2)\n",
    "print('g2numNodes:', g2numNodes)\n",
    "print('g2numEdges:', g2numEdges)"
   ]
  },
  {
   "cell_type": "code",
   "execution_count": null,
   "metadata": {},
   "outputs": [],
   "source": [
    "nx.draw(g2, node_size=[v * 10 for v in dict(d2).values()])"
   ]
  },
  {
   "cell_type": "code",
   "execution_count": null,
   "metadata": {},
   "outputs": [],
   "source": [
    "print(nx.is_connected(g2))"
   ]
  },
  {
   "cell_type": "code",
   "execution_count": null,
   "metadata": {},
   "outputs": [],
   "source": [
    "print(nx.number_connected_components(g2))"
   ]
  },
  {
   "cell_type": "code",
   "execution_count": null,
   "metadata": {},
   "outputs": [],
   "source": [
    "def connected_component_subgraphs(G):\n",
    "    for c in nx.connected_components(G):\n",
    "        yield G.subgraph(c)"
   ]
  },
  {
   "cell_type": "code",
   "execution_count": null,
   "metadata": {},
   "outputs": [],
   "source": [
    "graphs = connected_component_subgraphs(g2)\n",
    "graphsSorted = sorted(graphs, key=len, reverse=True)\n",
    "for graph in graphsSorted:\n",
    "    print(\"num nodes:\",nx.number_of_nodes(graph))     "
   ]
  },
  {
   "cell_type": "code",
   "execution_count": null,
   "metadata": {},
   "outputs": [],
   "source": [
    "for graph in graphsSorted[1:4]:\n",
    "    print(\"num nodes:\",nx.number_of_nodes(graph))\n",
    "    graphDegree = nx.degree(graph)\n",
    "    print(\"degree:\",graphDegree)"
   ]
  },
  {
   "cell_type": "code",
   "execution_count": null,
   "metadata": {},
   "outputs": [],
   "source": [
    " "
   ]
  },
  {
   "cell_type": "code",
   "execution_count": null,
   "metadata": {},
   "outputs": [],
   "source": [
    " "
   ]
  },
  {
   "cell_type": "code",
   "execution_count": null,
   "metadata": {},
   "outputs": [],
   "source": [
    "graphDegree = nx.degree(g2)\n",
    "pos = nx.spring_layout(g2)\n",
    "nx.draw(g2,pos,node_size=[v * 10 for v in dict(graphDegree).values()],with_labels=False,font_size=8)\n",
    "nx.draw_networkx_nodes(g2,pos,nodelist=['tirsen'],node_size=300,node_color='g')"
   ]
  },
  {
   "cell_type": "code",
   "execution_count": null,
   "metadata": {},
   "outputs": [],
   "source": [
    "graphs = list(connected_component_subgraphs(g2))\n",
    "cc = graphs[1]\n",
    "ego = nx.Graph(nx.ego_graph(cc, 'etopian', radius=3))\n",
    "graphDegree = nx.degree(ego) \n",
    "pos = nx.spring_layout(ego)\n",
    "nx.draw(ego,pos,node_size=[v * 10 for v in dict(graphDegree).values()],with_labels=True,font_size=8, node_color='r')\n",
    "nx.draw_networkx_nodes(ego,pos,nodelist=['etopian'],node_size=300,node_color='g')"
   ]
  },
  {
   "cell_type": "code",
   "execution_count": null,
   "metadata": {},
   "outputs": [],
   "source": [
    "from community import community_louvain\n",
    "import matplotlib.cm as cm\n",
    "partition = community_louvain.best_partition(g2)"
   ]
  },
  {
   "cell_type": "code",
   "execution_count": null,
   "metadata": {},
   "outputs": [],
   "source": [
    "# draw the graph\n",
    "pos = nx.spring_layout(g2)\n",
    "# color the nodes according to their partition\n",
    "cmap = cm.get_cmap('viridis', max(partition.values()) + 1)\n",
    "nx.draw_networkx_nodes(g2, pos, partition.keys(), node_size=40, \n",
    "cmap=cmap, node_color=list(partition.values()))\n",
    "nx.draw_networkx_edges(g2, pos, alpha=0.5)\n",
    "plt.show()"
   ]
  },
  {
   "cell_type": "code",
   "execution_count": null,
   "metadata": {},
   "outputs": [],
   "source": [
    " "
   ]
  }
 ],
 "metadata": {
  "kernelspec": {
   "display_name": "Python 3",
   "language": "python",
   "name": "python3"
  },
  "language_info": {
   "codemirror_mode": {
    "name": "ipython",
    "version": 3
   },
   "file_extension": ".py",
   "mimetype": "text/x-python",
   "name": "python",
   "nbconvert_exporter": "python",
   "pygments_lexer": "ipython3",
   "version": "3.7.6"
  }
 },
 "nbformat": 4,
 "nbformat_minor": 2
}
