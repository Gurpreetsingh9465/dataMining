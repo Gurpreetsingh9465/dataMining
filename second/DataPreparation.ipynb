{
 "cells": [
  {
   "cell_type": "code",
   "execution_count": 18,
   "metadata": {},
   "outputs": [],
   "source": [
    "import mysql.connector\n",
    "db= mysql.connector.connect(user='root', password='password',\n",
    "                              host='127.0.0.1',database=\"nm\"                             \n",
    "                              )\n",
    "cursor = db.cursor(buffered=True)"
   ]
  },
  {
   "cell_type": "code",
   "execution_count": 19,
   "metadata": {},
   "outputs": [],
   "source": [
    "cursor.execute(\"SELECT COUNT(*) FROM rf_developer_projects\")\n",
    "p = cursor.fetchone()"
   ]
  },
  {
   "cell_type": "code",
   "execution_count": 20,
   "metadata": {},
   "outputs": [
    {
     "name": "stdout",
     "output_type": "stream",
     "text": [
      "(1580,)\n"
     ]
    }
   ],
   "source": [
    "print(p)"
   ]
  },
  {
   "cell_type": "code",
   "execution_count": 23,
   "metadata": {},
   "outputs": [
    {
     "ename": "ProgrammingError",
     "evalue": "1054 (42S22): Unknown column 'a.proj_unixname' in 'on clause'",
     "output_type": "error",
     "traceback": [
      "\u001b[1;31m---------------------------------------------------------------------------\u001b[0m",
      "\u001b[1;31mMySQLInterfaceError\u001b[0m                       Traceback (most recent call last)",
      "\u001b[1;32m~\\anaconda3\\lib\\site-packages\\mysql\\connector\\connection_cext.py\u001b[0m in \u001b[0;36mcmd_query\u001b[1;34m(self, query, raw, buffered, raw_as_string)\u001b[0m\n\u001b[0;32m    488\u001b[0m                                \u001b[0mraw\u001b[0m\u001b[1;33m=\u001b[0m\u001b[0mraw\u001b[0m\u001b[1;33m,\u001b[0m \u001b[0mbuffered\u001b[0m\u001b[1;33m=\u001b[0m\u001b[0mbuffered\u001b[0m\u001b[1;33m,\u001b[0m\u001b[1;33m\u001b[0m\u001b[1;33m\u001b[0m\u001b[0m\n\u001b[1;32m--> 489\u001b[1;33m                                raw_as_string=raw_as_string)\n\u001b[0m\u001b[0;32m    490\u001b[0m         \u001b[1;32mexcept\u001b[0m \u001b[0mMySQLInterfaceError\u001b[0m \u001b[1;32mas\u001b[0m \u001b[0mexc\u001b[0m\u001b[1;33m:\u001b[0m\u001b[1;33m\u001b[0m\u001b[1;33m\u001b[0m\u001b[0m\n",
      "\u001b[1;31mMySQLInterfaceError\u001b[0m: Unknown column 'a.proj_unixname' in 'on clause'",
      "\nDuring handling of the above exception, another exception occurred:\n",
      "\u001b[1;31mProgrammingError\u001b[0m                          Traceback (most recent call last)",
      "\u001b[1;32m<ipython-input-23-e222e958456b>\u001b[0m in \u001b[0;36m<module>\u001b[1;34m\u001b[0m\n\u001b[0;32m      5\u001b[0m \u001b[0mWHERE\u001b[0m \u001b[0ma\u001b[0m\u001b[1;33m.\u001b[0m\u001b[0mdatasource_id\u001b[0m \u001b[1;33m=\u001b[0m \u001b[1;36m266\u001b[0m \u001b[0mAND\u001b[0m \u001b[0mb\u001b[0m\u001b[1;33m.\u001b[0m\u001b[0mdatasource_id\u001b[0m \u001b[1;33m=\u001b[0m \u001b[1;36m266\u001b[0m\u001b[0;31m \u001b[0m\u001b[0;31m\\\u001b[0m\u001b[1;33m\u001b[0m\u001b[1;33m\u001b[0m\u001b[0m\n\u001b[0;32m      6\u001b[0m \u001b[0mAND\u001b[0m \u001b[0ma\u001b[0m\u001b[1;33m.\u001b[0m\u001b[0mdev_loginname\u001b[0m \u001b[1;33m!=\u001b[0m \u001b[0mb\u001b[0m\u001b[1;33m.\u001b[0m\u001b[0mdev_loginname\u001b[0m\u001b[0;31m \u001b[0m\u001b[0;31m\\\u001b[0m\u001b[1;33m\u001b[0m\u001b[1;33m\u001b[0m\u001b[0m\n\u001b[1;32m----> 7\u001b[1;33m AND a.dev_loginname < b.dev_loginname\")\n\u001b[0m",
      "\u001b[1;32m~\\anaconda3\\lib\\site-packages\\mysql\\connector\\cursor_cext.py\u001b[0m in \u001b[0;36mexecute\u001b[1;34m(self, operation, params, multi)\u001b[0m\n\u001b[0;32m    264\u001b[0m             result = self._cnx.cmd_query(stmt, raw=self._raw,\n\u001b[0;32m    265\u001b[0m                                          \u001b[0mbuffered\u001b[0m\u001b[1;33m=\u001b[0m\u001b[0mself\u001b[0m\u001b[1;33m.\u001b[0m\u001b[0m_buffered\u001b[0m\u001b[1;33m,\u001b[0m\u001b[1;33m\u001b[0m\u001b[1;33m\u001b[0m\u001b[0m\n\u001b[1;32m--> 266\u001b[1;33m                                          raw_as_string=self._raw_as_string)\n\u001b[0m\u001b[0;32m    267\u001b[0m         \u001b[1;32mexcept\u001b[0m \u001b[0mMySQLInterfaceError\u001b[0m \u001b[1;32mas\u001b[0m \u001b[0mexc\u001b[0m\u001b[1;33m:\u001b[0m\u001b[1;33m\u001b[0m\u001b[1;33m\u001b[0m\u001b[0m\n\u001b[0;32m    268\u001b[0m             raise errors.get_mysql_exception(msg=exc.msg, errno=exc.errno,\n",
      "\u001b[1;32m~\\anaconda3\\lib\\site-packages\\mysql\\connector\\connection_cext.py\u001b[0m in \u001b[0;36mcmd_query\u001b[1;34m(self, query, raw, buffered, raw_as_string)\u001b[0m\n\u001b[0;32m    490\u001b[0m         \u001b[1;32mexcept\u001b[0m \u001b[0mMySQLInterfaceError\u001b[0m \u001b[1;32mas\u001b[0m \u001b[0mexc\u001b[0m\u001b[1;33m:\u001b[0m\u001b[1;33m\u001b[0m\u001b[1;33m\u001b[0m\u001b[0m\n\u001b[0;32m    491\u001b[0m             raise errors.get_mysql_exception(exc.errno, msg=exc.msg,\n\u001b[1;32m--> 492\u001b[1;33m                                              sqlstate=exc.sqlstate)\n\u001b[0m\u001b[0;32m    493\u001b[0m         \u001b[1;32mexcept\u001b[0m \u001b[0mAttributeError\u001b[0m\u001b[1;33m:\u001b[0m\u001b[1;33m\u001b[0m\u001b[1;33m\u001b[0m\u001b[0m\n\u001b[0;32m    494\u001b[0m             \u001b[1;32mif\u001b[0m \u001b[0mself\u001b[0m\u001b[1;33m.\u001b[0m\u001b[0m_unix_socket\u001b[0m\u001b[1;33m:\u001b[0m\u001b[1;33m\u001b[0m\u001b[1;33m\u001b[0m\u001b[0m\n",
      "\u001b[1;31mProgrammingError\u001b[0m: 1054 (42S22): Unknown column 'a.proj_unixname' in 'on clause'"
     ]
    }
   ],
   "source": [
    "cursor.execute(\"SELECT a.proj_unixname, a.dev_loginname, b.dev_loginname \\\n",
    "FROM rf_developer_projects a \\\n",
    "INNER JOIN rf_developer_projects b \\\n",
    "ON a.proj_unixname=b.proj_unixname \\\n",
    "WHERE a.datasource_id = 266 AND b.datasource_id = 266 \\\n",
    "AND a.dev_loginname != b.dev_loginname \\\n",
    "AND a.dev_loginname < b.dev_loginname\")"
   ]
  },
  {
   "cell_type": "code",
   "execution_count": null,
   "metadata": {},
   "outputs": [],
   "source": [
    "result = cursor.fetchall()\n",
    "print(len(result))\n",
    "for res in result:\n",
    "    print(\"%s\\t\\t\\t\\t%s\\t\\t\\t\\t%s\" % (res[0], res[1], res[2]))"
   ]
  },
  {
   "cell_type": "code",
   "execution_count": null,
   "metadata": {},
   "outputs": [],
   "source": [
    "cursor.execute(\"SELECT a.dev_loginname, COUNT(b.dev_loginname) \\\n",
    "FROM rf_developer_projects a \\\n",
    "INNER JOIN rf_developer_projects b \\\n",
    "ON a.proj_unixname = b.proj_unixname \\\n",
    "WHERE a.datasource_id = 266 \\\n",
    "AND b.datasource_id = 266 \\\n",
    "AND a.dev_loginname != b.dev_loginname \\\n",
    "AND a.dev_loginname < b.dev_loginname \\\n",
    "GROUP BY 1 \\\n",
    "ORDER BY 2 DESC\")"
   ]
  },
  {
   "cell_type": "code",
   "execution_count": null,
   "metadata": {},
   "outputs": [],
   "source": [
    "result = cursor.fetchall()\n",
    "for res in result:\n",
    "    print(\"%s\\t\\t\\t%d\" % (res[0], res[1]))"
   ]
  },
  {
   "cell_type": "code",
   "execution_count": null,
   "metadata": {},
   "outputs": [],
   "source": [
    "cursor.execute(\"SELECT a.proj_unixname, a.dev_loginname, b.dev_loginname \\\n",
    "FROM rf_developer_projects a \\\n",
    "INNER JOIN rf_developer_projects b \\\n",
    "ON a.proj_unixname=b.proj_unixname \\\n",
    "WHERE a.datasource_id = 266 AND b.datasource_id = 266 \\\n",
    "AND a.dev_loginname != b.dev_loginname \\\n",
    "AND a.dev_loginname < b.dev_loginname \\\n",
    "and a.dev_loginname = 'ezmobius'\") "
   ]
  },
  {
   "cell_type": "code",
   "execution_count": null,
   "metadata": {},
   "outputs": [],
   "source": [
    "result = cursor.fetchall()\n",
    "for res in result:\n",
    "    print(\"%s\\t\\t\\t\\t%s\\t\\t\\t\\t%s\" % (res[0], res[1], res[2]))"
   ]
  },
  {
   "cell_type": "code",
   "execution_count": null,
   "metadata": {},
   "outputs": [],
   "source": [
    "cursor.execute(\"SELECT a.dev_loginname, b.dev_loginname, count(a.proj_unixname) \\\n",
    "FROM rf_developer_projects a \\\n",
    "INNER JOIN rf_developer_projects b ON a.proj_unixname=b.proj_unixname \\\n",
    "WHERE a.datasource_id = 266 AND b.datasource_id = 266 \\\n",
    "AND a.dev_loginname != b.dev_loginname \\\n",
    "AND a.dev_loginname < b.dev_loginname \\\n",
    "GROUP BY 1,2 \\\n",
    "ORDER BY 3 DESC\")"
   ]
  },
  {
   "cell_type": "code",
   "execution_count": null,
   "metadata": {},
   "outputs": [],
   "source": [
    "result = cursor.fetchall()\n",
    "for res in result:\n",
    "    print(\"%s\\t\\t\\t\\t%s\\t\\t\\t\\t%d\" % (res[0], res[1], res[2]))"
   ]
  },
  {
   "cell_type": "code",
   "execution_count": null,
   "metadata": {},
   "outputs": [],
   "source": [
    "import csv\n",
    "import sys\n",
    "c=csv.writer(open('edgelist266.csv', 'w', encoding = 'utf-8'), delimiter=' ')\n",
    "for re in result:    \n",
    "    c.writerow(re)   "
   ]
  },
  {
   "cell_type": "code",
   "execution_count": null,
   "metadata": {},
   "outputs": [],
   "source": []
  }
 ],
 "metadata": {
  "kernelspec": {
   "display_name": "Python 3",
   "language": "python",
   "name": "python3"
  },
  "language_info": {
   "codemirror_mode": {
    "name": "ipython",
    "version": 3
   },
   "file_extension": ".py",
   "mimetype": "text/x-python",
   "name": "python",
   "nbconvert_exporter": "python",
   "pygments_lexer": "ipython3",
   "version": "3.7.6"
  }
 },
 "nbformat": 4,
 "nbformat_minor": 2
}
