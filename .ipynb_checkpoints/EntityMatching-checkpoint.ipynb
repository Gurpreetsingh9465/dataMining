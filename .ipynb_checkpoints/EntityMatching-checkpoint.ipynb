{
 "cells": [
  {
   "cell_type": "code",
   "execution_count": 18,
   "metadata": {},
   "outputs": [],
   "source": [
    "from nltk.metrics import *\n",
    "import jellyfish\n",
    "#from soundex import soundex\n",
    "import mysql.connector\n",
    "db= mysql.connector.connect(user='root', password='password',\n",
    "                              host='127.0.0.1',database=\"rfrg\"                             \n",
    "                              )\n",
    "cursor = db.cursor(buffered=True)"
   ]
  },
  {
   "cell_type": "code",
   "execution_count": 19,
   "metadata": {},
   "outputs": [],
   "source": [
    "cursor.execute(\"\"\"CREATE TABLE IF NOT EXISTS `book_entity_matches` (\n",
    "                    `rf_project_name` varchar(100) COLLATE utf8mb4_bin NOT NULL,\n",
    "                    `rg_project_name` varchar(100) COLLATE utf8mb4_bin NOT NULL,\n",
    "                    `rf_name_soundex` varchar(100) COLLATE utf8mb4_bin,\n",
    "                    `rg_name_soundex` varchar(100) COLLATE utf8mb4_bin,\n",
    "                    `url_levenshtein` varchar(100) COLLATE utf8mb4_bin,\n",
    "                    `name_levenshtein`varchar(100) COLLATE utf8mb4_bin,\n",
    "                    `rf_name_in_rg_name` varchar(100) COLLATE utf8mb4_bin,\n",
    "                    `rf_name_in_rg_url` varchar(100) COLLATE utf8mb4_bin,\n",
    "                    `rf_dev_in_rg_dev` varchar(100) COLLATE utf8mb4_bin, \n",
    "                    FOREIGN KEY (rf_project_name) REFERENCES book_rf_entities(project_name),\n",
    "                    FOREIGN KEY (rg_project_name) REFERENCES book_rg_entities(project_name)\n",
    "                )ENGINE=MyISAM DEFAULT CHARSET=utf8mb4 COLLATE=utf8mb4_bin;\"\"\")"
   ]
  },
  {
   "cell_type": "code",
   "execution_count": 20,
   "metadata": {},
   "outputs": [],
   "source": [
    "cursor.execute(\"INSERT INTO book_entity_matches (rf_project_name, \\\n",
    "                                                rg_project_name) \\\n",
    "                SELECT rf.project_name, rg.project_name \\\n",
    "                FROM rfrg.book_rf_entities rf \\\n",
    "                INNER JOIN rfrg.book_rg_entities rg ON rf.url = rg.url\")"
   ]
  },
  {
   "cell_type": "code",
   "execution_count": 21,
   "metadata": {},
   "outputs": [],
   "source": [
    "cursor.execute(\"INSERT INTO book_entity_matches(rf_project_name, \\\n",
    "                                                rg_project_name) \\\n",
    "                SELECT rf.project_name, rg.project_name \\\n",
    "                FROM rfrg.book_rf_entities rf \\\n",
    "                INNER JOIN rfrg.book_rg_entities rg \\\n",
    "                ON rf.project_name = rg.project_name \\\n",
    "                WHERE rf.project_name NOT IN ( \\\n",
    "                    SELECT bem.rf_project_name \\\n",
    "                    FROM book_entity_matches bem)\")"
   ]
  },
  {
   "cell_type": "code",
   "execution_count": 22,
   "metadata": {},
   "outputs": [],
   "source": [
    "peopleQuery = \"SELECT rf.dev_username, rf.dev_realname \\\n",
    "               FROM rfrg.book_rf_entity_people rf \\\n",
    "               WHERE rf.project_name =  %s \\\n",
    "               AND (rf.dev_username IN ( \\\n",
    "                    SELECT rg.person_name \\\n",
    "                    FROM rfrg.book_rg_entity_people rg \\\n",
    "                    WHERE rg.project_name =  %s) \\\n",
    "                    OR \\\n",
    "                    rf.dev_realname IN ( \\\n",
    "                    SELECT rg.person_name \\\n",
    "                    FROM rfrg.book_rg_entity_people rg \\\n",
    "                    WHERE rg.project_name = %s))\""
   ]
  },
  {
   "cell_type": "code",
   "execution_count": 23,
   "metadata": {},
   "outputs": [],
   "source": [
    "updateQuery = \"UPDATE book_entity_matches \\\n",
    "               SET rf_name_soundex    = %s,\\\n",
    "                   rg_name_soundex    = %s, \\\n",
    "                   url_levenshtein    = %s, \\\n",
    "                   name_levenshtein   = %s, \\\n",
    "                   rf_name_in_rg_name = %s, \\\n",
    "                   rf_name_in_rg_url  = %s, \\\n",
    "                   rf_dev_in_rg_dev   = %s \\\n",
    "               WHERE rf_project_name = %s \\\n",
    "               AND rg_project_name = %s\""
   ]
  },
  {
   "cell_type": "code",
   "execution_count": 24,
   "metadata": {},
   "outputs": [],
   "source": [
    "cursor.execute(\"SELECT bem.rf_project_name, \\\n",
    "                       bem.rg_project_name, \\\n",
    "                       rfe.url, \\\n",
    "                       rge.url \\\n",
    "                FROM rfrg.book_entity_matches bem \\\n",
    "                INNER JOIN rfrg.book_rg_entities rge \\\n",
    "                  ON bem.rg_project_name = rge.project_name \\\n",
    "                INNER JOIN rfrg.book_rf_entities rfe \\\n",
    "                  ON bem.rf_project_name = rfe.project_name \\\n",
    "                ORDER BY bem.rf_project_name\")\n",
    "projectPairs = cursor.fetchall()"
   ]
  },
  {
   "cell_type": "code",
   "execution_count": 25,
   "metadata": {},
   "outputs": [],
   "source": [
    "import sys\n",
    "i = 0;\n",
    "total_len = len(projectPairs)\n",
    "for(projectPair) in projectPairs:\n",
    "    RFname = projectPair[0]\n",
    "    RGname = projectPair[1]\n",
    "    RFurl  = projectPair[2]\n",
    "    RGurl  = projectPair[3]\n",
    "\n",
    "    # lowercase everything\n",
    "    RFnameLC = RFname.lower()\n",
    "    RGnameLC = RGname.lower()\n",
    "    RFurlLC  = RFurl.lower()\n",
    "    RGurlLC  = RGurl.lower()\n",
    "\n",
    "    # calculate string metrics\n",
    "    levNames = edit_distance(RFnameLC, RGnameLC)\n",
    "    levURLs  = edit_distance(RFurlLC, RGurlLC)\n",
    "    soundexRFname = jellyfish.soundex(RFnameLC)\n",
    "    soundexRGname = jellyfish.soundex(RGnameLC)\n",
    "\n",
    "    # is the RF project name inside the RG project name?\n",
    "    if RFnameLC in RGnameLC:\n",
    "        rf_in_rg = 1\n",
    "    else:\n",
    "        rf_in_rg = 0\n",
    "\n",
    "    # is the RF project name inside the RG project URL?\n",
    "    if RFnameLC in RGurl:\n",
    "        rf_in_rgurl = 1\n",
    "    else:\n",
    "        rf_in_rgurl = 0\n",
    "    # is any dev on the RF candidate in the dev list for the RG candidate?\n",
    "    cursor.execute(peopleQuery,(RFname, RGname, RGname))\n",
    "    result = cursor.fetchone()\n",
    "    if result is not None:\n",
    "        rfdev_in_rgdev = 1\n",
    "    else:\n",
    "        rfdev_in_rgdev = 0        \n",
    "        \n",
    "    cursor.execute(updateQuery,(soundexRFname,soundexRGname,levURLs,levNames,rf_in_rg,rf_in_rgurl,rfdev_in_rgdev,RFname,RGname))\n",
    "#db.close()"
   ]
  },
  {
   "cell_type": "code",
   "execution_count": 26,
   "metadata": {},
   "outputs": [
    {
     "name": "stdout",
     "output_type": "stream",
     "text": [
      "[(15103,)]\n"
     ]
    }
   ],
   "source": [
    "cursor.execute(\"SELECT count(*)FROM book_entity_matches\")    \n",
    "p = cursor.fetchall()\n",
    "print(p)"
   ]
  },
  {
   "cell_type": "code",
   "execution_count": 27,
   "metadata": {},
   "outputs": [],
   "source": [
    "cursor.execute(\"SELECT rf_project_name, rg_project_name FROM book_entity_matches \\\n",
    "WHERE name_levenshtein =0 \\\n",
    "AND url_levenshtein = 0 \\\n",
    "AND rf_name_in_rg_url =1 \\\n",
    "AND rf_dev_in_rg_dev =1\")"
   ]
  },
  {
   "cell_type": "code",
   "execution_count": 28,
   "metadata": {},
   "outputs": [
    {
     "name": "stdout",
     "output_type": "stream",
     "text": [
      "4317\n"
     ]
    }
   ],
   "source": [
    "tp = cursor.fetchall()\n",
    "print(len(tp))"
   ]
  },
  {
   "cell_type": "code",
   "execution_count": 29,
   "metadata": {},
   "outputs": [],
   "source": [
    "cursor.execute(\"SELECT rf_project_name, rg_project_name FROM book_entity_matches \\\n",
    "WHERE name_levenshtein =0 \\\n",
    "AND url_levenshtein > 0 \\\n",
    "AND rf_name_in_rg_url =0 \\\n",
    "AND rf_dev_in_rg_dev =0\")"
   ]
  },
  {
   "cell_type": "code",
   "execution_count": 30,
   "metadata": {},
   "outputs": [
    {
     "name": "stdout",
     "output_type": "stream",
     "text": [
      "121\n"
     ]
    }
   ],
   "source": [
    "fp1 = cursor.fetchall()\n",
    "print(len(fp1))"
   ]
  },
  {
   "cell_type": "code",
   "execution_count": 31,
   "metadata": {},
   "outputs": [],
   "source": [
    "cursor.execute(\"SELECT rf_project_name, rg_project_name FROM book_entity_matches \\\n",
    "WHERE url_levenshtein = 0 \\\n",
    "AND rf_name_soundex <> rg_name_soundex \\\n",
    "AND name_levenshtein > 0 \\\n",
    "AND rf_name_in_rg_name = 0 \\\n",
    "AND rf_name_in_rg_url = 0 \\\n",
    "AND rf_dev_in_rg_dev = 0\")"
   ]
  },
  {
   "cell_type": "code",
   "execution_count": 32,
   "metadata": {},
   "outputs": [
    {
     "name": "stdout",
     "output_type": "stream",
     "text": [
      "492\n"
     ]
    }
   ],
   "source": [
    "fp2 = cursor.fetchall()\n",
    "print(len(fp2))"
   ]
  },
  {
   "cell_type": "code",
   "execution_count": 33,
   "metadata": {},
   "outputs": [],
   "source": [
    "precision=(len(tp)/(len(tp)+len(fp1)+len(fp2)))"
   ]
  },
  {
   "cell_type": "code",
   "execution_count": 34,
   "metadata": {},
   "outputs": [
    {
     "data": {
      "text/plain": [
       "0.8756592292089249"
      ]
     },
     "execution_count": 34,
     "metadata": {},
     "output_type": "execute_result"
    }
   ],
   "source": [
    "precision"
   ]
  },
  {
   "cell_type": "code",
   "execution_count": null,
   "metadata": {},
   "outputs": [],
   "source": []
  },
  {
   "cell_type": "code",
   "execution_count": null,
   "metadata": {},
   "outputs": [],
   "source": []
  },
  {
   "cell_type": "code",
   "execution_count": null,
   "metadata": {},
   "outputs": [],
   "source": []
  },
  {
   "cell_type": "code",
   "execution_count": null,
   "metadata": {},
   "outputs": [],
   "source": []
  }
 ],
 "metadata": {
  "kernelspec": {
   "display_name": "Python 3",
   "language": "python",
   "name": "python3"
  },
  "language_info": {
   "codemirror_mode": {
    "name": "ipython",
    "version": 3
   },
   "file_extension": ".py",
   "mimetype": "text/x-python",
   "name": "python",
   "nbconvert_exporter": "python",
   "pygments_lexer": "ipython3",
   "version": "3.7.6"
  }
 },
 "nbformat": 4,
 "nbformat_minor": 2
}
